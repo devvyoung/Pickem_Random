{
  "nbformat": 4,
  "nbformat_minor": 0,
  "metadata": {
    "colab": {
      "provenance": []
    },
    "kernelspec": {
      "name": "python3",
      "display_name": "Python 3"
    },
    "language_info": {
      "name": "python"
    }
  },
  "cells": [
    {
      "cell_type": "code",
      "execution_count": null,
      "metadata": {
        "colab": {
          "base_uri": "https://localhost:8080/"
        },
        "id": "R1SfC2rMKhHg",
        "outputId": "ad2a7b11-366d-4415-f53e-4acbc2ef98ff"
      },
      "outputs": [
        {
          "output_type": "stream",
          "name": "stdout",
          "text": [
            "각 팀에서 랜덤하게 뽑을 챔피언의 수를 입력하세요 : 66\n",
            "올바른 입력이 아닙니다.\n",
            "\n",
            "각 팀에서 랜덤하게 뽑을 챔피언의 수를 입력하세요 : 3\n",
            "\n",
            "1팀 : Olaf, Yorick, Yuumi, \n",
            "2팀 : Sion, Yone, Evelynn, "
          ]
        }
      ],
      "source": [
        "import requests\n",
        "import random\n",
        "\n",
        "# get Json File\n",
        "datas = requests.get('https://ddragon.leagueoflegends.com/cdn/12.6.1/data/ko_KR/champion.json')\n",
        "datas = datas.json()\n",
        "\n",
        "# champion Name parsing\n",
        "champion = []\n",
        "for data in datas[\"data\"]:\n",
        "    champion.append(data)\n",
        "maxx = len(champion)\n",
        "n = -1\n",
        "\n",
        "# get Random Amounts\n",
        "while not (0 < n <= 5):\n",
        "  n = int(input(\"각 팀에서 랜덤하게 뽑을 챔피언의 수를 입력하세요 : \"))\n",
        "  if not (0 < n <= 5):\n",
        "    print(\"올바른 입력이 아닙니다.\")\n",
        "    print()\n",
        "print()\n",
        "\n",
        "# pick Random Index\n",
        "targ_list = []\n",
        "while (len(targ_list) < 2*n):\n",
        "  r = random.randint(0, maxx) \n",
        "  if r not in targ_list:\n",
        "    targ_list.append(r)\n",
        "\n",
        "# print result\n",
        "print(\"1팀 : \", end = \"\")\n",
        "for i in range(n):\n",
        "  print(champion[targ_list[i]], end = \", \")\n",
        "print()\n",
        "\n",
        "print(\"2팀 : \", end = \"\")\n",
        "for i in range(n, 2*n):\n",
        "  print(champion[targ_list[i]], end = \", \")"
      ]
    }
  ]
}